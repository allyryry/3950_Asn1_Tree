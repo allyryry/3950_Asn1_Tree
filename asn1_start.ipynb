{
 "cells": [
  {
   "cell_type": "code",
   "execution_count": 25,
   "metadata": {},
   "outputs": [],
   "source": [
    "import pandas as pd\n",
    "import numpy as np\n",
    "from sklearn.tree import DecisionTreeClassifier\n",
    "from sklearn.preprocessing import StandardScaler\n",
    "from sklearn.pipeline import Pipeline\n",
    "from sklearn.model_selection import cross_val_score\n",
    "from sklearn.metrics import roc_auc_score\n",
    "from sklearn.metrics import accuracy_score\n",
    "import math\n",
    "import sklearn.datasets\n",
    "from sklearn.model_selection import train_test_split\n",
    "import sklearn.tree\n",
    "\n",
    "##Seaborn for fancy plots. \n",
    "import matplotlib.pyplot as plt\n",
    "import seaborn as sns\n",
    "plt.rcParams[\"figure.figsize\"] = (8,8)"
   ]
  },
  {
   "cell_type": "markdown",
   "metadata": {},
   "source": [
    "## 3950 Assignment 1: Part 2\n",
    "\n",
    "For this assignment we want to use some sort of tree based model to classify the data below. We have a very small training set, so overfitting is a very real concern. \n",
    "\n",
    "Some specifics for this assignment:\n",
    "<ul>\n",
    "<li>Please paste in any outside functions you may use before submitting. E.g. if you're importing any functions from a util file, paste them in here for this. The reason for this is that it makes it massively easier for me when downloading a submission from everyone. Please put the blocks with those functions before they're called, so I can hit Run All to run the entire workbook. \n",
    "<li>Please use the show_eda to control if EDA stuff is shown. I don't really need to see all the EDA stuff (nor do you after you've done it), so we can make it configurable with a variable to speed up time. Please set this FALSE when you submit, so I can run all and see the outcome without histograms etc...\n",
    "<li>Please ensure that whatever model you end up with is in a variable named best at the end.\n",
    "<li>Please use some pipeline in prepping the data. The test data is in an identical format to the training data, so whatever pipeline you've created for your training will work for the testing. \n",
    "<li>The accuracy scoring will be an average of accuracy and roc_auc. \n",
    "<li>Please make the name variable into your name, this will make it easier for me to track scores. \n",
    "</ul>\n",
    "\n",
    "### Grading Metrics\n",
    "<ul>\n",
    "<li><b>Pipeline Used - 10pts</b> The data loading needs to be in a pipeline. See the test part for illustration. When testing I'll call your pipe with the new data (format is identical to training), so any prep stuff should be in the pipeline. \n",
    "<li><b>Tree Based Model Used - 5pts</b> The model used for classification needs to be some variety of tree. \n",
    "<li><b>Accuracy - 5pts</b> The final accuracy acheived. \n",
    "<li><b>Clarity and Formatting - 5pts</b> Is it organized and can I read it?\n",
    "</ul>\n",
    "\n",
    "For submission, please drop the .ipynb in the dropbox. Again, please make sure everything you need is in that file. "
   ]
  },
  {
   "cell_type": "code",
   "execution_count": 12,
   "metadata": {},
   "outputs": [],
   "source": [
    "#Please change to your name.\n",
    "name = \"Ally Ryan\"\n",
    "\n",
    "#Please use this to control EDA. \n",
    "show_eda = False"
   ]
  },
  {
   "cell_type": "code",
   "execution_count": 13,
   "metadata": {},
   "outputs": [
    {
     "data": {
      "text/html": [
       "<div>\n",
       "<style scoped>\n",
       "    .dataframe tbody tr th:only-of-type {\n",
       "        vertical-align: middle;\n",
       "    }\n",
       "\n",
       "    .dataframe tbody tr th {\n",
       "        vertical-align: top;\n",
       "    }\n",
       "\n",
       "    .dataframe thead th {\n",
       "        text-align: right;\n",
       "    }\n",
       "</style>\n",
       "<table border=\"1\" class=\"dataframe\">\n",
       "  <thead>\n",
       "    <tr style=\"text-align: right;\">\n",
       "      <th></th>\n",
       "      <th>target</th>\n",
       "      <th>var_1</th>\n",
       "      <th>var_2</th>\n",
       "      <th>var_3</th>\n",
       "      <th>var_4</th>\n",
       "      <th>var_5</th>\n",
       "      <th>var_6</th>\n",
       "      <th>var_7</th>\n",
       "      <th>var_8</th>\n",
       "      <th>var_9</th>\n",
       "      <th>...</th>\n",
       "      <th>var_191</th>\n",
       "      <th>var_192</th>\n",
       "      <th>var_193</th>\n",
       "      <th>var_194</th>\n",
       "      <th>var_195</th>\n",
       "      <th>var_196</th>\n",
       "      <th>var_197</th>\n",
       "      <th>var_198</th>\n",
       "      <th>var_199</th>\n",
       "      <th>var_200</th>\n",
       "    </tr>\n",
       "  </thead>\n",
       "  <tbody>\n",
       "    <tr>\n",
       "      <th>85</th>\n",
       "      <td>0</td>\n",
       "      <td>0.830</td>\n",
       "      <td>0.749</td>\n",
       "      <td>0.547</td>\n",
       "      <td>0.421</td>\n",
       "      <td>0.175</td>\n",
       "      <td>0.226</td>\n",
       "      <td>0.828</td>\n",
       "      <td>0.697</td>\n",
       "      <td>0.248</td>\n",
       "      <td>...</td>\n",
       "      <td>0.271</td>\n",
       "      <td>0.947</td>\n",
       "      <td>0.260</td>\n",
       "      <td>0.734</td>\n",
       "      <td>0.760</td>\n",
       "      <td>0.279</td>\n",
       "      <td>0.113</td>\n",
       "      <td>0.877</td>\n",
       "      <td>0.478</td>\n",
       "      <td>0.928</td>\n",
       "    </tr>\n",
       "    <tr>\n",
       "      <th>91</th>\n",
       "      <td>0</td>\n",
       "      <td>0.846</td>\n",
       "      <td>0.089</td>\n",
       "      <td>0.356</td>\n",
       "      <td>0.501</td>\n",
       "      <td>0.415</td>\n",
       "      <td>0.066</td>\n",
       "      <td>0.622</td>\n",
       "      <td>0.368</td>\n",
       "      <td>0.073</td>\n",
       "      <td>...</td>\n",
       "      <td>0.857</td>\n",
       "      <td>0.150</td>\n",
       "      <td>0.771</td>\n",
       "      <td>0.841</td>\n",
       "      <td>0.519</td>\n",
       "      <td>0.761</td>\n",
       "      <td>0.398</td>\n",
       "      <td>0.832</td>\n",
       "      <td>0.179</td>\n",
       "      <td>0.130</td>\n",
       "    </tr>\n",
       "    <tr>\n",
       "      <th>232</th>\n",
       "      <td>1</td>\n",
       "      <td>0.409</td>\n",
       "      <td>0.425</td>\n",
       "      <td>0.779</td>\n",
       "      <td>0.450</td>\n",
       "      <td>0.422</td>\n",
       "      <td>0.983</td>\n",
       "      <td>0.557</td>\n",
       "      <td>0.006</td>\n",
       "      <td>0.336</td>\n",
       "      <td>...</td>\n",
       "      <td>0.760</td>\n",
       "      <td>0.428</td>\n",
       "      <td>0.470</td>\n",
       "      <td>0.645</td>\n",
       "      <td>0.911</td>\n",
       "      <td>0.673</td>\n",
       "      <td>0.890</td>\n",
       "      <td>0.168</td>\n",
       "      <td>0.231</td>\n",
       "      <td>0.291</td>\n",
       "    </tr>\n",
       "    <tr>\n",
       "      <th>174</th>\n",
       "      <td>1</td>\n",
       "      <td>0.774</td>\n",
       "      <td>0.093</td>\n",
       "      <td>0.479</td>\n",
       "      <td>0.232</td>\n",
       "      <td>0.432</td>\n",
       "      <td>0.892</td>\n",
       "      <td>0.021</td>\n",
       "      <td>0.041</td>\n",
       "      <td>0.944</td>\n",
       "      <td>...</td>\n",
       "      <td>0.957</td>\n",
       "      <td>0.171</td>\n",
       "      <td>0.236</td>\n",
       "      <td>0.361</td>\n",
       "      <td>0.717</td>\n",
       "      <td>0.388</td>\n",
       "      <td>0.351</td>\n",
       "      <td>0.973</td>\n",
       "      <td>0.258</td>\n",
       "      <td>0.888</td>\n",
       "    </tr>\n",
       "    <tr>\n",
       "      <th>190</th>\n",
       "      <td>1</td>\n",
       "      <td>0.979</td>\n",
       "      <td>0.019</td>\n",
       "      <td>0.085</td>\n",
       "      <td>0.265</td>\n",
       "      <td>0.778</td>\n",
       "      <td>0.517</td>\n",
       "      <td>0.153</td>\n",
       "      <td>0.622</td>\n",
       "      <td>0.270</td>\n",
       "      <td>...</td>\n",
       "      <td>0.069</td>\n",
       "      <td>0.562</td>\n",
       "      <td>0.883</td>\n",
       "      <td>0.957</td>\n",
       "      <td>0.313</td>\n",
       "      <td>0.450</td>\n",
       "      <td>0.609</td>\n",
       "      <td>0.862</td>\n",
       "      <td>0.599</td>\n",
       "      <td>0.842</td>\n",
       "    </tr>\n",
       "  </tbody>\n",
       "</table>\n",
       "<p>5 rows × 201 columns</p>\n",
       "</div>"
      ],
      "text/plain": [
       "     target  var_1  var_2  var_3  var_4  var_5  var_6  var_7  var_8  var_9  \\\n",
       "85        0  0.830  0.749  0.547  0.421  0.175  0.226  0.828  0.697  0.248   \n",
       "91        0  0.846  0.089  0.356  0.501  0.415  0.066  0.622  0.368  0.073   \n",
       "232       1  0.409  0.425  0.779  0.450  0.422  0.983  0.557  0.006  0.336   \n",
       "174       1  0.774  0.093  0.479  0.232  0.432  0.892  0.021  0.041  0.944   \n",
       "190       1  0.979  0.019  0.085  0.265  0.778  0.517  0.153  0.622  0.270   \n",
       "\n",
       "     ...  var_191  var_192  var_193  var_194  var_195  var_196  var_197  \\\n",
       "85   ...    0.271    0.947    0.260    0.734    0.760    0.279    0.113   \n",
       "91   ...    0.857    0.150    0.771    0.841    0.519    0.761    0.398   \n",
       "232  ...    0.760    0.428    0.470    0.645    0.911    0.673    0.890   \n",
       "174  ...    0.957    0.171    0.236    0.361    0.717    0.388    0.351   \n",
       "190  ...    0.069    0.562    0.883    0.957    0.313    0.450    0.609   \n",
       "\n",
       "     var_198  var_199  var_200  \n",
       "85     0.877    0.478    0.928  \n",
       "91     0.832    0.179    0.130  \n",
       "232    0.168    0.231    0.291  \n",
       "174    0.973    0.258    0.888  \n",
       "190    0.862    0.599    0.842  \n",
       "\n",
       "[5 rows x 201 columns]"
      ]
     },
     "execution_count": 13,
     "metadata": {},
     "output_type": "execute_result"
    }
   ],
   "source": [
    "#Load data\n",
    "df = pd.read_csv(\"training.csv\")\n",
    "df = df.drop(columns={\"id\"})\n",
    "df.sample(5)"
   ]
  },
  {
   "cell_type": "markdown",
   "metadata": {},
   "source": [
    "### Starting\n",
    "\n",
    "For this assignment, you have a small training set, so combatting overfitting is key in being accurate!"
   ]
  },
  {
   "cell_type": "code",
   "execution_count": 14,
   "metadata": {},
   "outputs": [
    {
     "name": "stdout",
     "output_type": "stream",
     "text": [
      "<class 'pandas.core.frame.DataFrame'>\n",
      "RangeIndex: 250 entries, 0 to 249\n",
      "Columns: 201 entries, target to var_200\n",
      "dtypes: float64(200), int64(1)\n",
      "memory usage: 392.7 KB\n"
     ]
    }
   ],
   "source": [
    "df.info()"
   ]
  },
  {
   "cell_type": "code",
   "execution_count": 15,
   "metadata": {},
   "outputs": [
    {
     "name": "stdout",
     "output_type": "stream",
     "text": [
      "8\n",
      "0.5714285714285714\n"
     ]
    },
    {
     "data": {
      "text/plain": [
       "[Text(153.22857142857143, 410.71999999999997, 'X[177] <= 0.12\\ngini = 0.496\\nsamples = 187\\nvalue = [85, 102]'),\n",
       " Text(56.68571428571428, 362.4, 'X[12] <= 0.914\\ngini = 0.213\\nsamples = 33\\nvalue = [4, 29]'),\n",
       " Text(28.34285714285714, 314.08, 'X[19] <= 0.891\\ngini = 0.067\\nsamples = 29\\nvalue = [1, 28]'),\n",
       " Text(14.17142857142857, 265.76, 'gini = 0.0\\nsamples = 28\\nvalue = [0, 28]'),\n",
       " Text(42.51428571428571, 265.76, 'gini = 0.0\\nsamples = 1\\nvalue = [1, 0]'),\n",
       " Text(85.02857142857142, 314.08, 'X[150] <= 0.766\\ngini = 0.375\\nsamples = 4\\nvalue = [3, 1]'),\n",
       " Text(70.85714285714286, 265.76, 'gini = 0.0\\nsamples = 3\\nvalue = [3, 0]'),\n",
       " Text(99.19999999999999, 265.76, 'gini = 0.0\\nsamples = 1\\nvalue = [0, 1]'),\n",
       " Text(249.77142857142857, 362.4, 'X[49] <= 0.544\\ngini = 0.499\\nsamples = 154\\nvalue = [81, 73]'),\n",
       " Text(166.5142857142857, 314.08, 'X[198] <= 0.769\\ngini = 0.472\\nsamples = 89\\nvalue = [34, 55]'),\n",
       " Text(127.54285714285714, 265.76, 'X[173] <= 0.838\\ngini = 0.398\\nsamples = 73\\nvalue = [20, 53]'),\n",
       " Text(92.11428571428571, 217.44, 'X[147] <= 0.956\\ngini = 0.305\\nsamples = 64\\nvalue = [12, 52]'),\n",
       " Text(63.77142857142857, 169.12, 'X[24] <= 0.923\\ngini = 0.212\\nsamples = 58\\nvalue = [7, 51]'),\n",
       " Text(49.599999999999994, 120.80000000000001, 'X[105] <= 0.066\\ngini = 0.135\\nsamples = 55\\nvalue = [4, 51]'),\n",
       " Text(35.42857142857143, 72.48000000000002, 'gini = 0.0\\nsamples = 3\\nvalue = [3, 0]'),\n",
       " Text(63.77142857142857, 72.48000000000002, 'X[13] <= 0.995\\ngini = 0.038\\nsamples = 52\\nvalue = [1, 51]'),\n",
       " Text(49.599999999999994, 24.159999999999968, 'gini = 0.0\\nsamples = 51\\nvalue = [0, 51]'),\n",
       " Text(77.94285714285714, 24.159999999999968, 'gini = 0.0\\nsamples = 1\\nvalue = [1, 0]'),\n",
       " Text(77.94285714285714, 120.80000000000001, 'gini = 0.0\\nsamples = 3\\nvalue = [3, 0]'),\n",
       " Text(120.45714285714286, 169.12, 'X[35] <= 0.178\\ngini = 0.278\\nsamples = 6\\nvalue = [5, 1]'),\n",
       " Text(106.28571428571428, 120.80000000000001, 'gini = 0.0\\nsamples = 1\\nvalue = [0, 1]'),\n",
       " Text(134.62857142857143, 120.80000000000001, 'gini = 0.0\\nsamples = 5\\nvalue = [5, 0]'),\n",
       " Text(162.97142857142856, 217.44, 'X[21] <= 0.109\\ngini = 0.198\\nsamples = 9\\nvalue = [8, 1]'),\n",
       " Text(148.79999999999998, 169.12, 'gini = 0.0\\nsamples = 1\\nvalue = [0, 1]'),\n",
       " Text(177.14285714285714, 169.12, 'gini = 0.0\\nsamples = 8\\nvalue = [8, 0]'),\n",
       " Text(205.48571428571427, 265.76, 'X[140] <= 0.831\\ngini = 0.219\\nsamples = 16\\nvalue = [14, 2]'),\n",
       " Text(191.31428571428572, 217.44, 'gini = 0.0\\nsamples = 14\\nvalue = [14, 0]'),\n",
       " Text(219.65714285714284, 217.44, 'gini = 0.0\\nsamples = 2\\nvalue = [0, 2]'),\n",
       " Text(333.0285714285714, 314.08, 'X[164] <= 0.637\\ngini = 0.4\\nsamples = 65\\nvalue = [47, 18]'),\n",
       " Text(276.34285714285716, 265.76, 'X[72] <= 0.081\\ngini = 0.21\\nsamples = 42\\nvalue = [37, 5]'),\n",
       " Text(248.0, 217.44, 'X[59] <= 0.956\\ngini = 0.32\\nsamples = 5\\nvalue = [1, 4]'),\n",
       " Text(233.82857142857142, 169.12, 'gini = 0.0\\nsamples = 4\\nvalue = [0, 4]'),\n",
       " Text(262.1714285714286, 169.12, 'gini = 0.0\\nsamples = 1\\nvalue = [1, 0]'),\n",
       " Text(304.68571428571425, 217.44, 'X[129] <= 0.028\\ngini = 0.053\\nsamples = 37\\nvalue = [36, 1]'),\n",
       " Text(290.5142857142857, 169.12, 'gini = 0.0\\nsamples = 1\\nvalue = [0, 1]'),\n",
       " Text(318.85714285714283, 169.12, 'gini = 0.0\\nsamples = 36\\nvalue = [36, 0]'),\n",
       " Text(389.7142857142857, 265.76, 'X[8] <= 0.487\\ngini = 0.491\\nsamples = 23\\nvalue = [10, 13]'),\n",
       " Text(361.37142857142857, 217.44, 'X[147] <= 0.832\\ngini = 0.165\\nsamples = 11\\nvalue = [1, 10]'),\n",
       " Text(347.2, 169.12, 'gini = 0.0\\nsamples = 10\\nvalue = [0, 10]'),\n",
       " Text(375.54285714285714, 169.12, 'gini = 0.0\\nsamples = 1\\nvalue = [1, 0]'),\n",
       " Text(418.0571428571428, 217.44, 'X[74] <= 0.588\\ngini = 0.375\\nsamples = 12\\nvalue = [9, 3]'),\n",
       " Text(403.88571428571424, 169.12, 'gini = 0.0\\nsamples = 3\\nvalue = [0, 3]'),\n",
       " Text(432.2285714285714, 169.12, 'gini = 0.0\\nsamples = 9\\nvalue = [9, 0]')]"
      ]
     },
     "execution_count": 15,
     "metadata": {},
     "output_type": "execute_result"
    },
    {
     "data": {
      "image/png": "[encoded data removed]",
      "text/plain": [
       "<Figure size 576x576 with 1 Axes>"
      ]
     },
     "metadata": {
      "needs_background": "light"
     },
     "output_type": "display_data"
    }
   ],
   "source": [
    "from sklearn.tree import DecisionTreeClassifier\n",
    "from sklearn.tree import plot_tree\n",
    "\n",
    "#Trees don't theoretically require dummies, but sklearns implemention does.\n",
    "df2 = pd.get_dummies(df, drop_first=True)\n",
    "y = np.array(df2[\"target\"]).reshape(-1,1)\n",
    "X = np.array(df2.drop(columns={\"target\"}))\n",
    "\n",
    "X_train, X_test, y_train, y_test = train_test_split(X, y)\n",
    "\n",
    "clf = DecisionTreeClassifier()\n",
    "clf = clf.fit(X_train, y_train)\n",
    "print(clf.get_depth())\n",
    "print(clf.score(X_test, y_test))\n",
    "plot_tree(clf)"
   ]
  },
  {
   "cell_type": "code",
   "execution_count": 37,
   "metadata": {},
   "outputs": [
    {
     "data": {
      "text/plain": [
       "0.6031746031746031"
      ]
     },
     "execution_count": 37,
     "metadata": {},
     "output_type": "execute_result"
    }
   ],
   "source": [
    "from sklearn.tree import DecisionTreeClassifier\n",
    "from sklearn.preprocessing import StandardScaler\n",
    "from sklearn.model_selection import train_test_split\n",
    "from sklearn.pipeline import Pipeline\n",
    "\n",
    "#Split data as normal\n",
    "y = np.array(df[\"target\"]).reshape(-1,1)\n",
    "X = np.array(df.drop(columns={\"target\"}))\n",
    "X_train, X_test, y_train, y_test = train_test_split(X, y)\n",
    "\n",
    "#Build pipeline\n",
    "pipeline_steps = [('scaler', StandardScaler()),('DT', DecisionTreeClassifier()) ]\n",
    "pipe = Pipeline(pipeline_steps)\n",
    "# The pipeline can be used as any other estimator\n",
    "# and avoids leaking the test set into the train set\n",
    "pipe.fit(X_train, y_train)\n",
    "\n",
    "pipe.score(X_test, y_test)"
   ]
  },
  {
   "cell_type": "code",
   "execution_count": 16,
   "metadata": {},
   "outputs": [
    {
     "data": {
      "text/plain": [
       "var_199    0.102250\n",
       "var_178    0.096032\n",
       "var_50     0.094244\n",
       "var_174    0.083722\n",
       "var_148    0.079169\n",
       "dtype: float64"
      ]
     },
     "execution_count": 16,
     "metadata": {},
     "output_type": "execute_result"
    }
   ],
   "source": [
    "importances = clf.feature_importances_\n",
    "feat_imp = pd.Series(importances, index=df.drop(columns={\"target\"}).columns)\n",
    "feat_imp.sort_values(ascending=False)[0:5]"
   ]
  },
  {
   "cell_type": "code",
   "execution_count": 38,
   "metadata": {},
   "outputs": [],
   "source": [
    "clf_ = DecisionTreeClassifier()\n",
    "\n",
    "path_ = clf_.cost_complexity_pruning_path(X_train, y_train)\n",
    "ccp_alphas_, impurities_ = path_.ccp_alphas, path_.impurities"
   ]
  },
  {
   "cell_type": "code",
   "execution_count": 39,
   "metadata": {},
   "outputs": [],
   "source": [
    "clfs_ = []\n",
    "for ccp_alpha_ in ccp_alphas_:\n",
    "    clf_ = DecisionTreeClassifier(random_state=0, ccp_alpha=ccp_alpha_)\n",
    "    clf_.fit(X_train, y_train)\n",
    "    clfs_.append(clf_)\n",
    "\n",
    "clfs_ = clfs_[:-1]\n",
    "ccp_alphas_ = ccp_alphas_[:-1]"
   ]
  },
  {
   "cell_type": "code",
   "execution_count": 40,
   "metadata": {},
   "outputs": [
    {
     "data": {
      "image/png": "[encoded data removed]",
      "text/plain": [
       "<Figure size 576x576 with 1 Axes>"
      ]
     },
     "metadata": {
      "needs_background": "light"
     },
     "output_type": "display_data"
    }
   ],
   "source": [
    "train_scores_ = [clf_.score(X_train, y_train) for clf_ in clfs_]\n",
    "test_scores_ = [clf_.score(X_test, y_test) for clf_ in clfs_]\n",
    "\n",
    "fig_, ax_ = plt.subplots()\n",
    "ax_.set_xlabel(\"alpha\")\n",
    "ax_.set_ylabel(\"accuracy\")\n",
    "ax_.set_title(\"Accuracy vs alpha for training and testing sets\")\n",
    "ax_.plot(ccp_alphas_, train_scores_, marker=\"o\", label=\"train\", drawstyle=\"steps-post\")\n",
    "ax_.plot(ccp_alphas_, test_scores_, marker=\"o\", label=\"test\", drawstyle=\"steps-post\")\n",
    "ax_.legend()\n",
    "plt.show()"
   ]
  },
  {
   "cell_type": "code",
   "execution_count": 42,
   "metadata": {},
   "outputs": [
    {
     "name": "stdout",
     "output_type": "stream",
     "text": [
      "9\n",
      "0.6825396825396826\n"
     ]
    },
    {
     "data": {
      "text/plain": [
       "[Text(169.46666666666664, 413.13599999999997, 'X[177] <= 0.12\\ngini = 0.495\\nsamples = 187\\nvalue = [84, 103]'),\n",
       " Text(66.13333333333333, 369.648, 'X[141] <= 0.202\\ngini = 0.208\\nsamples = 34\\nvalue = [4, 30]'),\n",
       " Text(33.06666666666666, 326.15999999999997, 'X[70] <= 0.091\\ngini = 0.375\\nsamples = 4\\nvalue = [3, 1]'),\n",
       " Text(16.53333333333333, 282.672, 'gini = 0.0\\nsamples = 1\\nvalue = [0, 1]'),\n",
       " Text(49.599999999999994, 282.672, 'gini = 0.0\\nsamples = 3\\nvalue = [3, 0]'),\n",
       " Text(99.19999999999999, 326.15999999999997, 'X[120] <= 0.981\\ngini = 0.064\\nsamples = 30\\nvalue = [1, 29]'),\n",
       " Text(82.66666666666666, 282.672, 'gini = 0.0\\nsamples = 29\\nvalue = [0, 29]'),\n",
       " Text(115.73333333333332, 282.672, 'gini = 0.0\\nsamples = 1\\nvalue = [1, 0]'),\n",
       " Text(272.79999999999995, 369.648, 'X[49] <= 0.567\\ngini = 0.499\\nsamples = 153\\nvalue = [80, 73]'),\n",
       " Text(190.13333333333333, 326.15999999999997, 'X[198] <= 0.781\\ngini = 0.477\\nsamples = 89\\nvalue = [35, 54]'),\n",
       " Text(148.79999999999998, 282.672, 'X[173] <= 0.838\\ngini = 0.418\\nsamples = 74\\nvalue = [22, 52]'),\n",
       " Text(115.73333333333332, 239.184, 'X[24] <= 0.923\\ngini = 0.328\\nsamples = 63\\nvalue = [13, 50]'),\n",
       " Text(99.19999999999999, 195.696, 'X[105] <= 0.069\\ngini = 0.278\\nsamples = 60\\nvalue = [10, 50]'),\n",
       " Text(82.66666666666666, 152.20799999999997, 'gini = 0.0\\nsamples = 3\\nvalue = [3, 0]'),\n",
       " Text(115.73333333333332, 152.20799999999997, 'X[159] <= 0.869\\ngini = 0.215\\nsamples = 57\\nvalue = [7, 50]'),\n",
       " Text(82.66666666666666, 108.72000000000003, 'X[36] <= 0.063\\ngini = 0.08\\nsamples = 48\\nvalue = [2, 46]'),\n",
       " Text(66.13333333333333, 65.23199999999997, 'X[154] <= 0.782\\ngini = 0.444\\nsamples = 3\\nvalue = [2, 1]'),\n",
       " Text(49.599999999999994, 21.744000000000028, 'gini = 0.0\\nsamples = 2\\nvalue = [2, 0]'),\n",
       " Text(82.66666666666666, 21.744000000000028, 'gini = 0.0\\nsamples = 1\\nvalue = [0, 1]'),\n",
       " Text(99.19999999999999, 65.23199999999997, 'gini = 0.0\\nsamples = 45\\nvalue = [0, 45]'),\n",
       " Text(148.79999999999998, 108.72000000000003, 'X[47] <= 0.498\\ngini = 0.494\\nsamples = 9\\nvalue = [5, 4]'),\n",
       " Text(132.26666666666665, 65.23199999999997, 'gini = 0.0\\nsamples = 5\\nvalue = [5, 0]'),\n",
       " Text(165.33333333333331, 65.23199999999997, 'gini = 0.0\\nsamples = 4\\nvalue = [0, 4]'),\n",
       " Text(132.26666666666665, 195.696, 'gini = 0.0\\nsamples = 3\\nvalue = [3, 0]'),\n",
       " Text(181.86666666666665, 239.184, 'X[130] <= 0.125\\ngini = 0.298\\nsamples = 11\\nvalue = [9, 2]'),\n",
       " Text(165.33333333333331, 195.696, 'gini = 0.0\\nsamples = 2\\nvalue = [0, 2]'),\n",
       " Text(198.39999999999998, 195.696, 'gini = 0.0\\nsamples = 9\\nvalue = [9, 0]'),\n",
       " Text(231.46666666666664, 282.672, 'X[170] <= 0.093\\ngini = 0.231\\nsamples = 15\\nvalue = [13, 2]'),\n",
       " Text(214.9333333333333, 239.184, 'gini = 0.0\\nsamples = 2\\nvalue = [0, 2]'),\n",
       " Text(247.99999999999997, 239.184, 'gini = 0.0\\nsamples = 13\\nvalue = [13, 0]'),\n",
       " Text(355.46666666666664, 326.15999999999997, 'X[188] <= 0.406\\ngini = 0.417\\nsamples = 64\\nvalue = [45, 19]'),\n",
       " Text(314.1333333333333, 282.672, 'X[46] <= 0.436\\ngini = 0.499\\nsamples = 29\\nvalue = [14, 15]'),\n",
       " Text(281.0666666666666, 239.184, 'X[18] <= 0.221\\ngini = 0.165\\nsamples = 11\\nvalue = [1, 10]'),\n",
       " Text(264.5333333333333, 195.696, 'gini = 0.0\\nsamples = 1\\nvalue = [1, 0]'),\n",
       " Text(297.59999999999997, 195.696, 'gini = 0.0\\nsamples = 10\\nvalue = [0, 10]'),\n",
       " Text(347.19999999999993, 239.184, 'X[174] <= 0.289\\ngini = 0.401\\nsamples = 18\\nvalue = [13, 5]'),\n",
       " Text(330.66666666666663, 195.696, 'gini = 0.0\\nsamples = 4\\nvalue = [0, 4]'),\n",
       " Text(363.7333333333333, 195.696, 'X[167] <= 0.106\\ngini = 0.133\\nsamples = 14\\nvalue = [13, 1]'),\n",
       " Text(347.19999999999993, 152.20799999999997, 'gini = 0.0\\nsamples = 1\\nvalue = [0, 1]'),\n",
       " Text(380.26666666666665, 152.20799999999997, 'gini = 0.0\\nsamples = 13\\nvalue = [13, 0]'),\n",
       " Text(396.79999999999995, 282.672, 'X[135] <= 0.076\\ngini = 0.202\\nsamples = 35\\nvalue = [31, 4]'),\n",
       " Text(380.26666666666665, 239.184, 'gini = 0.0\\nsamples = 3\\nvalue = [0, 3]'),\n",
       " Text(413.33333333333326, 239.184, 'X[76] <= 0.035\\ngini = 0.061\\nsamples = 32\\nvalue = [31, 1]'),\n",
       " Text(396.79999999999995, 195.696, 'gini = 0.0\\nsamples = 1\\nvalue = [0, 1]'),\n",
       " Text(429.8666666666666, 195.696, 'gini = 0.0\\nsamples = 31\\nvalue = [31, 0]')]"
      ]
     },
     "execution_count": 42,
     "metadata": {},
     "output_type": "execute_result"
    },
    {
     "data": {
      "image/png": "[encoded data removed]",
      "text/plain": [
       "<Figure size 576x576 with 1 Axes>"
      ]
     },
     "metadata": {
      "needs_background": "light"
     },
     "output_type": "display_data"
    }
   ],
   "source": [
    "clf_ = DecisionTreeClassifier(ccp_alpha=.003)\n",
    "clf_ = clf_.fit(X_train, y_train)\n",
    "print(clf_.get_depth())\n",
    "print(clf_.score(X_test, y_test))\n",
    "plot_tree(clf_)"
   ]
  },
  {
   "cell_type": "markdown",
   "metadata": {},
   "source": [
    "### Finishing\n",
    "\n",
    "At the conclusion, please name your best model \"best\". If you look down below in the testing stuff, it should be usable to score as \"best\". \n",
    "\n",
    "You should be able to call it like this and it should work (with whatever data names you have)"
   ]
  },
  {
   "cell_type": "code",
   "execution_count": 17,
   "metadata": {},
   "outputs": [
    {
     "ename": "NameError",
     "evalue": "name 'best' is not defined",
     "output_type": "error",
     "traceback": [
      "\u001b[1;31m---------------------------------------------------------------------------\u001b[0m",
      "\u001b[1;31mNameError\u001b[0m                                 Traceback (most recent call last)",
      "\u001b[1;32m<ipython-input-17-3d9c797a8472>\u001b[0m in \u001b[0;36m<module>\u001b[1;34m\u001b[0m\n\u001b[1;32m----> 1\u001b[1;33m \u001b[0mprint\u001b[0m\u001b[1;33m(\u001b[0m\u001b[0mbest\u001b[0m\u001b[1;33m.\u001b[0m\u001b[0mscore\u001b[0m\u001b[1;33m(\u001b[0m\u001b[0mX_test\u001b[0m\u001b[1;33m,\u001b[0m \u001b[0my_test\u001b[0m\u001b[1;33m)\u001b[0m\u001b[1;33m)\u001b[0m\u001b[1;33m\u001b[0m\u001b[1;33m\u001b[0m\u001b[0m\n\u001b[0m\u001b[0;32m      2\u001b[0m \u001b[0mprint\u001b[0m\u001b[1;33m(\u001b[0m\u001b[0mbest\u001b[0m\u001b[1;33m)\u001b[0m\u001b[1;33m\u001b[0m\u001b[1;33m\u001b[0m\u001b[0m\n",
      "\u001b[1;31mNameError\u001b[0m: name 'best' is not defined"
     ]
    }
   ],
   "source": [
    "print(best.score(X_test, y_test))\n",
    "print(best)"
   ]
  },
  {
   "cell_type": "markdown",
   "metadata": {},
   "source": [
    "### Testing\n",
    "\n",
    "Please leave the stuff below as-is in your file. \n",
    "\n",
    "This will take your best model and score it with the test data. If you want to test to make sure that yours works, make a copy of the data file and rename it testing.csv, then make sure this runs ok. I will do the same, but the contents of my test file will be different. "
   ]
  },
  {
   "cell_type": "code",
   "execution_count": null,
   "metadata": {},
   "outputs": [],
   "source": [
    "#Load Test Data\n",
    "test_df = pd.read_csv(\"testing.csv\")\n",
    "test_df = test_df.drop(columns={\"id\"})\n",
    "#Create tests and score\n",
    "test_y = np.array(test_df[\"target\"]).reshape(-1,1)\n",
    "test_X = np.array(test_df.drop(columns={\"target\"}))\n",
    "\n",
    "preds = best.predict(test_X)\n",
    "\n",
    "roc_score = roc_auc_score(test_y, preds)\n",
    "acc_score = accuracy_score(test_y, preds)\n",
    "\n",
    "print(roc_score)\n",
    "print(acc_score)\n",
    "print(name, np.mean([roc_score, acc_score]))\n"
   ]
  }
 ],
 "metadata": {
  "interpreter": {
   "hash": "4d722d3adfa415172c1f5238b519fb86b488acdae450fd691ab06c09f4ca9173"
  },
  "kernelspec": {
   "display_name": "Python 3.9.7 64-bit ('ml3950': conda)",
   "language": "python",
   "name": "python3"
  },
  "language_info": {
   "codemirror_mode": {
    "name": "ipython",
    "version": 3
   },
   "file_extension": ".py",
   "mimetype": "text/x-python",
   "name": "python",
   "nbconvert_exporter": "python",
   "pygments_lexer": "ipython3",
   "version": "3.8.8"
  },
  "orig_nbformat": 4
 },
 "nbformat": 4,
 "nbformat_minor": 2
}
